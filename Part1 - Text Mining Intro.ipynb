{
 "cells": [
  {
   "cell_type": "markdown",
   "id": "256b3a82",
   "metadata": {},
   "source": [
    "# Text Mining: Introduction"
   ]
  },
  {
   "cell_type": "code",
   "execution_count": 1,
   "id": "544445d4",
   "metadata": {},
   "outputs": [
    {
     "name": "stdout",
     "output_type": "stream",
     "text": [
      "Lenght txt1:  41\n",
      "Lenght txt2:  10\n",
      "Cleaned text:  This is a sample Text for some reasons.\n",
      "First s:  4\n",
      "Last s:  38\n",
      "Replaced T/t:   this is a sample text for some reasons. \n"
     ]
    }
   ],
   "source": [
    "txt1 = ' This is a sample Text for some reasons. '\n",
    "print('Lenght txt1: ', len(txt1))               # Number of characters\n",
    "\n",
    "txt2 = txt1.split(' ')\n",
    "print('Lenght txt2: ', len(txt2))               # Number of words\n",
    "\n",
    "print('Cleaned text: ', txt1.strip())           # Remove extra spaces (t.rstrip() for remove end spaces)\n",
    "\n",
    "print('First s: ', txt1.find('s'))              # Find the first 's'\n",
    "\n",
    "print('Last s: ', txt1.rfind('s'))              # Find the last 's'\n",
    "\n",
    "print('Replaced T/t: ', txt1.replace('T','t'))  # Replace 'T' with 't'"
   ]
  },
  {
   "cell_type": "code",
   "execution_count": 2,
   "id": "9900e436",
   "metadata": {},
   "outputs": [
    {
     "name": "stdout",
     "output_type": "stream",
     "text": [
      "Long words:  ['This', 'sample', 'Text', 'some', 'reasons.']\n",
      "Capitalized words:  ['This', 'Text']\n",
      "End with s:  ['This', 'is']\n"
     ]
    }
   ],
   "source": [
    "x1 = [w for w in txt2 if len(w) > 3]          # Select long words\n",
    "print('Long words: ',x1)\n",
    "\n",
    "x2 = [w for w in txt2 if w.istitle()]         # Select capitalized words\n",
    "print('Capitalized words: ',x2)\n",
    " \n",
    "x3 = [w for w in txt2 if w.endswith('s')]     # Select words that end with s\n",
    "print('End with s: ',x3)"
   ]
  },
  {
   "cell_type": "code",
   "execution_count": 3,
   "id": "7330fd82",
   "metadata": {},
   "outputs": [
    {
     "name": "stdout",
     "output_type": "stream",
     "text": [
      "Unique words:  {'be', 'to', 'not', 'or'}\n"
     ]
    }
   ],
   "source": [
    "txt3 = 'To be or not to be'\n",
    "txt4 = txt3.split(' ')\n",
    "x4 = set([w.lower() for w in txt4])       # Select unique words (With handle To/to)\n",
    "print('Unique words: ',x4)"
   ]
  },
  {
   "cell_type": "code",
   "execution_count": 4,
   "id": "97a87d61",
   "metadata": {},
   "outputs": [
    {
     "name": "stdout",
     "output_type": "stream",
     "text": [
      "Splitted:  ['', 'agad', 'g', '']\n",
      "Joined:  ouagadougou\n",
      "All characters:  ['o', 'u', 'a', 'g', 'a', 'd', 'o', 'u', 'g', 'o', 'u']\n"
     ]
    }
   ],
   "source": [
    "txt5 = 'ouagadougou'\n",
    "x5 = txt5.split('ou')                   # Split word with 'ou'\n",
    "print('Splitted: ',x5)\n",
    "\n",
    "x6 = 'ou'.join(x5)                      # Join 'ou' with splitted text\n",
    "print('Joined: ',x6)\n",
    "\n",
    "print('All characters: ', list(txt5))   # Same as [c for c in txt5]"
   ]
  },
  {
   "cell_type": "markdown",
   "id": "3cbafb3b",
   "metadata": {},
   "source": [
    "### Handle txt file"
   ]
  },
  {
   "cell_type": "code",
   "execution_count": 5,
   "id": "d318b61d",
   "metadata": {},
   "outputs": [
    {
     "name": "stdout",
     "output_type": "stream",
     "text": [
      "First line:  Reminders\n",
      "\n",
      "Third line:  1- Apply: \n",
      "\n",
      "First 20 characters:  Reminders\n",
      "\n",
      "1- Apply:\n",
      "Whole file:  Reminders\n",
      "\n",
      "1- Apply: \n",
      "\n",
      "2- Learning: youtube projects, sharif NN\n",
      "\n",
      "3- findjob: Update CV(95%) remain = (adjust About, Projects, ..),\n",
      "            Active in Linkedin\n",
      "\n",
      "\n",
      "0.5h\n",
      "11:30\n",
      "Whole characters:  174\n",
      "Number of lines:  12\n"
     ]
    },
    {
     "data": {
      "text/plain": [
       "'Reminders'"
      ]
     },
     "execution_count": 5,
     "metadata": {},
     "output_type": "execute_result"
    }
   ],
   "source": [
    "f = open('Reminder.txt', 'r')    # Open txt file for reading ('r' is reading mode, 'w' is for writing mode)\n",
    "\n",
    "x7 = f.readline()         # Read line by line\n",
    "print('First line: ',x7)\n",
    "x7 = f.readline()\n",
    "x7 = f.readline()\n",
    "print('Third line: ',x7)\n",
    "\n",
    "f.seek(0)                 # Reset Reading from start (f.seek(n): n is position of reset)\n",
    "\n",
    "print('First 20 characters: ', f.read(20))      # Read by number of characters\n",
    "\n",
    "f.seek(0)\n",
    "x8 = f.read()             # Read whole file\n",
    "print('Whole file: ', x8)\n",
    "print('Whole characters: ', len(x8))\n",
    "\n",
    "x9 = x8.splitlines()      # Split lines of txt file\n",
    "print('Number of lines: ', len(x9))\n",
    "x9[0]   # Returnes first line\n"
   ]
  },
  {
   "cell_type": "code",
   "execution_count": 6,
   "id": "345caaa0",
   "metadata": {},
   "outputs": [
    {
     "data": {
      "text/plain": [
       "True"
      ]
     },
     "execution_count": 6,
     "metadata": {},
     "output_type": "execute_result"
    }
   ],
   "source": [
    "f.close()      # Close the file\n",
    "f.closed"
   ]
  },
  {
   "cell_type": "markdown",
   "id": "17f42a67",
   "metadata": {},
   "source": [
    "## Regular Expressions"
   ]
  },
  {
   "cell_type": "code",
   "execution_count": 7,
   "id": "07c7b428",
   "metadata": {},
   "outputs": [],
   "source": [
    "import re"
   ]
  },
  {
   "cell_type": "code",
   "execution_count": 8,
   "id": "02045f4c",
   "metadata": {},
   "outputs": [
    {
     "name": "stdout",
     "output_type": "stream",
     "text": [
      "Hashtags:  ['#free', '#samples']\n",
      "Callouts:  ['@', '@Samples', '@Twitts']\n"
     ]
    }
   ],
   "source": [
    "txt = 'This is a sample twitt. #free #samples @ mynote , @Samples @Twitts'\n",
    "txt = txt.split(' ')\n",
    "\n",
    "tag = [w for w in txt if w.startswith('#')]\n",
    "print('Hashtags: ', tag)\n",
    "\n",
    "at = [w for w in txt if w.startswith('@')]\n",
    "print('Callouts: ', at)"
   ]
  },
  {
   "cell_type": "code",
   "execution_count": 9,
   "id": "beccb874",
   "metadata": {},
   "outputs": [
    {
     "name": "stdout",
     "output_type": "stream",
     "text": [
      "True callouts:  ['@Samples', '@Twitts']\n",
      "Long callouts:  ['@Samples']\n"
     ]
    }
   ],
   "source": [
    "at = [w for w in txt if re.search('@[A-Za-z0-9_]+', w)]       # [A-Za-z0-9_] = \\w  , + means it must occure at least one time\n",
    "print('True callouts: ', at)\n",
    "\n",
    "at = [w for w in txt if re.search('@\\w{7}', w)]     # With at least 7 characters\n",
    "print('Long callouts: ', at)"
   ]
  },
  {
   "cell_type": "code",
   "execution_count": 10,
   "id": "3ff0bc15",
   "metadata": {},
   "outputs": [
    {
     "name": "stdout",
     "output_type": "stream",
     "text": [
      "['a', 'e', 'a', 'b']\n",
      "['s', 'j', 'l', 'i']\n"
     ]
    }
   ],
   "source": [
    "txt = 'sajelabi'\n",
    "print(re.findall(r'[a-e]', txt))     # Print 'a' to 'e'\n",
    "print(re.findall(r'[^a-e]', txt))    # Print not 'a' to 'e'"
   ]
  },
  {
   "cell_type": "markdown",
   "id": "b02ba47e",
   "metadata": {},
   "source": [
    "### Dates"
   ]
  },
  {
   "cell_type": "code",
   "execution_count": 11,
   "id": "6d3a79ce",
   "metadata": {},
   "outputs": [
    {
     "data": {
      "text/plain": [
       "['17-11-2024', '17/11/2024', '17/11/24', '11/17/2024']"
      ]
     },
     "execution_count": 11,
     "metadata": {},
     "output_type": "execute_result"
    }
   ],
   "source": [
    "dates = '17-11-2024 17/11/2024 17/11/24 11/17/2024'\n",
    "re.findall(r'\\d{2}[/-]\\d{2}[/-]\\d{2,4}', dates)"
   ]
  },
  {
   "cell_type": "code",
   "execution_count": 15,
   "id": "9cda6ce1",
   "metadata": {},
   "outputs": [
    {
     "data": {
      "text/plain": [
       "['2 Nov 2024', '23 November 2024', 'Nov 23, 2024', 'November 23, 2024']"
      ]
     },
     "execution_count": 15,
     "metadata": {},
     "output_type": "execute_result"
    }
   ],
   "source": [
    "dates = '2 Nov 2024 23 November 2024 Nov 23, 2024 November 23, 2024'\n",
    "re.findall(r'(?:\\d{1,2} )?(?:Jan|Feb|Mar|Apr|May|Jun|Jul|Aug|Sep|Oct|Nov|Dec)[a-z]* (?:\\d{1,2}, )?\\d{4}', dates)"
   ]
  },
  {
   "cell_type": "markdown",
   "id": "5bf843b7",
   "metadata": {},
   "source": [
    "## Text Data in Pandas"
   ]
  },
  {
   "cell_type": "code",
   "execution_count": 16,
   "id": "5e6264fb",
   "metadata": {},
   "outputs": [],
   "source": [
    "import pandas as pd"
   ]
  },
  {
   "cell_type": "code",
   "execution_count": 18,
   "id": "5355118c",
   "metadata": {},
   "outputs": [
    {
     "data": {
      "text/html": [
       "<div>\n",
       "<style scoped>\n",
       "    .dataframe tbody tr th:only-of-type {\n",
       "        vertical-align: middle;\n",
       "    }\n",
       "\n",
       "    .dataframe tbody tr th {\n",
       "        vertical-align: top;\n",
       "    }\n",
       "\n",
       "    .dataframe thead th {\n",
       "        text-align: right;\n",
       "    }\n",
       "</style>\n",
       "<table border=\"1\" class=\"dataframe\">\n",
       "  <thead>\n",
       "    <tr style=\"text-align: right;\">\n",
       "      <th></th>\n",
       "      <th>Text</th>\n",
       "    </tr>\n",
       "  </thead>\n",
       "  <tbody>\n",
       "    <tr>\n",
       "      <th>0</th>\n",
       "      <td>Monday: The doctor appointment is at 2:45pm.</td>\n",
       "    </tr>\n",
       "    <tr>\n",
       "      <th>1</th>\n",
       "      <td>Tuesday: The dentist appointment is at 11:30 am.</td>\n",
       "    </tr>\n",
       "    <tr>\n",
       "      <th>2</th>\n",
       "      <td>Wednesday: At 7:00pm, there is a basketball game!</td>\n",
       "    </tr>\n",
       "    <tr>\n",
       "      <th>3</th>\n",
       "      <td>Thursday: Be back home by 11:15 pm at the latest</td>\n",
       "    </tr>\n",
       "    <tr>\n",
       "      <th>4</th>\n",
       "      <td>Friday: Take the train at 08:10 am, arrive at ...</td>\n",
       "    </tr>\n",
       "  </tbody>\n",
       "</table>\n",
       "</div>"
      ],
      "text/plain": [
       "                                                Text\n",
       "0       Monday: The doctor appointment is at 2:45pm.\n",
       "1   Tuesday: The dentist appointment is at 11:30 am.\n",
       "2  Wednesday: At 7:00pm, there is a basketball game!\n",
       "3   Thursday: Be back home by 11:15 pm at the latest\n",
       "4  Friday: Take the train at 08:10 am, arrive at ..."
      ]
     },
     "execution_count": 18,
     "metadata": {},
     "output_type": "execute_result"
    }
   ],
   "source": [
    "time_sentences = ['Monday: The doctor appointment is at 2:45pm.', 'Tuesday: The dentist appointment is at 11:30 am.',\n",
    "                  'Wednesday: At 7:00pm, there is a basketball game!', 'Thursday: Be back home by 11:15 pm at the latest',\n",
    "                  'Friday: Take the train at 08:10 am, arrive at 09:00am.']\n",
    "\n",
    "df = pd.DataFrame(time_sentences, columns=['Text'])\n",
    "df"
   ]
  },
  {
   "cell_type": "code",
   "execution_count": 19,
   "id": "934359a5",
   "metadata": {},
   "outputs": [
    {
     "data": {
      "text/plain": [
       "0    44\n",
       "1    48\n",
       "2    49\n",
       "3    48\n",
       "4    54\n",
       "Name: Text, dtype: int64"
      ]
     },
     "execution_count": 19,
     "metadata": {},
     "output_type": "execute_result"
    }
   ],
   "source": [
    "df['Text'].str.len()"
   ]
  },
  {
   "cell_type": "code",
   "execution_count": 20,
   "id": "28eadbc6",
   "metadata": {},
   "outputs": [
    {
     "data": {
      "text/plain": [
       "0     7\n",
       "1     8\n",
       "2     8\n",
       "3    10\n",
       "4    10\n",
       "Name: Text, dtype: int64"
      ]
     },
     "execution_count": 20,
     "metadata": {},
     "output_type": "execute_result"
    }
   ],
   "source": [
    "df.Text.str.split().str.len()"
   ]
  },
  {
   "cell_type": "code",
   "execution_count": 21,
   "id": "3cee664f",
   "metadata": {},
   "outputs": [
    {
     "data": {
      "text/plain": [
       "0     True\n",
       "1     True\n",
       "2    False\n",
       "3    False\n",
       "4    False\n",
       "Name: Text, dtype: bool"
      ]
     },
     "execution_count": 21,
     "metadata": {},
     "output_type": "execute_result"
    }
   ],
   "source": [
    "df.Text.str.contains('appointment')        # Find text with (for example) appointment."
   ]
  },
  {
   "cell_type": "code",
   "execution_count": 22,
   "id": "bc6b7ec0",
   "metadata": {},
   "outputs": [
    {
     "data": {
      "text/plain": [
       "0    3\n",
       "1    4\n",
       "2    3\n",
       "3    4\n",
       "4    8\n",
       "Name: Text, dtype: int64"
      ]
     },
     "execution_count": 22,
     "metadata": {},
     "output_type": "execute_result"
    }
   ],
   "source": [
    "df.Text.str.count(r'\\d')       # Count all digits"
   ]
  },
  {
   "cell_type": "code",
   "execution_count": 23,
   "id": "ece815a2",
   "metadata": {},
   "outputs": [
    {
     "data": {
      "text/plain": [
       "0                   [2, 4, 5]\n",
       "1                [1, 1, 3, 0]\n",
       "2                   [7, 0, 0]\n",
       "3                [1, 1, 1, 5]\n",
       "4    [0, 8, 1, 0, 0, 9, 0, 0]\n",
       "Name: Text, dtype: object"
      ]
     },
     "execution_count": 23,
     "metadata": {},
     "output_type": "execute_result"
    }
   ],
   "source": [
    "df.Text.str.findall(r'\\d')         # Find all digits"
   ]
  },
  {
   "cell_type": "code",
   "execution_count": 25,
   "id": "fb9a9b25",
   "metadata": {},
   "outputs": [
    {
     "data": {
      "text/plain": [
       "0               [(2, 45)]\n",
       "1              [(11, 30)]\n",
       "2               [(7, 00)]\n",
       "3              [(11, 15)]\n",
       "4    [(08, 10), (09, 00)]\n",
       "Name: Text, dtype: object"
      ]
     },
     "execution_count": 25,
     "metadata": {},
     "output_type": "execute_result"
    }
   ],
   "source": [
    "df.Text.str.findall(r'(\\d{1,2}):(\\d{2})')         # Same as (\\d?\\d):(\\d\\d)"
   ]
  },
  {
   "cell_type": "code",
   "execution_count": 83,
   "id": "bd2e06a6",
   "metadata": {},
   "outputs": [
    {
     "data": {
      "text/html": [
       "<div>\n",
       "<style scoped>\n",
       "    .dataframe tbody tr th:only-of-type {\n",
       "        vertical-align: middle;\n",
       "    }\n",
       "\n",
       "    .dataframe tbody tr th {\n",
       "        vertical-align: top;\n",
       "    }\n",
       "\n",
       "    .dataframe thead th {\n",
       "        text-align: right;\n",
       "    }\n",
       "</style>\n",
       "<table border=\"1\" class=\"dataframe\">\n",
       "  <thead>\n",
       "    <tr style=\"text-align: right;\">\n",
       "      <th></th>\n",
       "      <th>0</th>\n",
       "      <th>1</th>\n",
       "    </tr>\n",
       "  </thead>\n",
       "  <tbody>\n",
       "    <tr>\n",
       "      <th>0</th>\n",
       "      <td>2</td>\n",
       "      <td>45</td>\n",
       "    </tr>\n",
       "    <tr>\n",
       "      <th>1</th>\n",
       "      <td>11</td>\n",
       "      <td>30</td>\n",
       "    </tr>\n",
       "    <tr>\n",
       "      <th>2</th>\n",
       "      <td>7</td>\n",
       "      <td>00</td>\n",
       "    </tr>\n",
       "    <tr>\n",
       "      <th>3</th>\n",
       "      <td>11</td>\n",
       "      <td>15</td>\n",
       "    </tr>\n",
       "    <tr>\n",
       "      <th>4</th>\n",
       "      <td>08</td>\n",
       "      <td>10</td>\n",
       "    </tr>\n",
       "  </tbody>\n",
       "</table>\n",
       "</div>"
      ],
      "text/plain": [
       "    0   1\n",
       "0   2  45\n",
       "1  11  30\n",
       "2   7  00\n",
       "3  11  15\n",
       "4  08  10"
      ]
     },
     "execution_count": 83,
     "metadata": {},
     "output_type": "execute_result"
    }
   ],
   "source": [
    "df.Text.str.extract(r'(\\d?\\d):(\\d\\d)')"
   ]
  },
  {
   "cell_type": "code",
   "execution_count": 84,
   "id": "d4bdbe4c",
   "metadata": {},
   "outputs": [
    {
     "data": {
      "text/html": [
       "<div>\n",
       "<style scoped>\n",
       "    .dataframe tbody tr th:only-of-type {\n",
       "        vertical-align: middle;\n",
       "    }\n",
       "\n",
       "    .dataframe tbody tr th {\n",
       "        vertical-align: top;\n",
       "    }\n",
       "\n",
       "    .dataframe thead th {\n",
       "        text-align: right;\n",
       "    }\n",
       "</style>\n",
       "<table border=\"1\" class=\"dataframe\">\n",
       "  <thead>\n",
       "    <tr style=\"text-align: right;\">\n",
       "      <th></th>\n",
       "      <th></th>\n",
       "      <th>0</th>\n",
       "      <th>1</th>\n",
       "      <th>2</th>\n",
       "      <th>3</th>\n",
       "    </tr>\n",
       "    <tr>\n",
       "      <th></th>\n",
       "      <th>match</th>\n",
       "      <th></th>\n",
       "      <th></th>\n",
       "      <th></th>\n",
       "      <th></th>\n",
       "    </tr>\n",
       "  </thead>\n",
       "  <tbody>\n",
       "    <tr>\n",
       "      <th>0</th>\n",
       "      <th>0</th>\n",
       "      <td>2:45pm</td>\n",
       "      <td>2</td>\n",
       "      <td>45</td>\n",
       "      <td>pm</td>\n",
       "    </tr>\n",
       "    <tr>\n",
       "      <th>1</th>\n",
       "      <th>0</th>\n",
       "      <td>11:30 am</td>\n",
       "      <td>11</td>\n",
       "      <td>30</td>\n",
       "      <td>am</td>\n",
       "    </tr>\n",
       "    <tr>\n",
       "      <th>2</th>\n",
       "      <th>0</th>\n",
       "      <td>7:00pm</td>\n",
       "      <td>7</td>\n",
       "      <td>00</td>\n",
       "      <td>pm</td>\n",
       "    </tr>\n",
       "    <tr>\n",
       "      <th>3</th>\n",
       "      <th>0</th>\n",
       "      <td>11:15 pm</td>\n",
       "      <td>11</td>\n",
       "      <td>15</td>\n",
       "      <td>pm</td>\n",
       "    </tr>\n",
       "    <tr>\n",
       "      <th rowspan=\"2\" valign=\"top\">4</th>\n",
       "      <th>0</th>\n",
       "      <td>08:10 am</td>\n",
       "      <td>08</td>\n",
       "      <td>10</td>\n",
       "      <td>am</td>\n",
       "    </tr>\n",
       "    <tr>\n",
       "      <th>1</th>\n",
       "      <td>09:00am</td>\n",
       "      <td>09</td>\n",
       "      <td>00</td>\n",
       "      <td>am</td>\n",
       "    </tr>\n",
       "  </tbody>\n",
       "</table>\n",
       "</div>"
      ],
      "text/plain": [
       "                0   1   2   3\n",
       "  match                      \n",
       "0 0        2:45pm   2  45  pm\n",
       "1 0      11:30 am  11  30  am\n",
       "2 0        7:00pm   7  00  pm\n",
       "3 0      11:15 pm  11  15  pm\n",
       "4 0      08:10 am  08  10  am\n",
       "  1       09:00am  09  00  am"
      ]
     },
     "execution_count": 84,
     "metadata": {},
     "output_type": "execute_result"
    }
   ],
   "source": [
    "df.Text.str.extractall(r'((\\d?\\d):(\\d\\d) ?([ap]m))')"
   ]
  },
  {
   "cell_type": "code",
   "execution_count": 85,
   "id": "197f7f6f",
   "metadata": {},
   "outputs": [
    {
     "data": {
      "text/html": [
       "<div>\n",
       "<style scoped>\n",
       "    .dataframe tbody tr th:only-of-type {\n",
       "        vertical-align: middle;\n",
       "    }\n",
       "\n",
       "    .dataframe tbody tr th {\n",
       "        vertical-align: top;\n",
       "    }\n",
       "\n",
       "    .dataframe thead th {\n",
       "        text-align: right;\n",
       "    }\n",
       "</style>\n",
       "<table border=\"1\" class=\"dataframe\">\n",
       "  <thead>\n",
       "    <tr style=\"text-align: right;\">\n",
       "      <th></th>\n",
       "      <th></th>\n",
       "      <th>time</th>\n",
       "      <th>hour</th>\n",
       "      <th>minute</th>\n",
       "      <th>period</th>\n",
       "    </tr>\n",
       "    <tr>\n",
       "      <th></th>\n",
       "      <th>match</th>\n",
       "      <th></th>\n",
       "      <th></th>\n",
       "      <th></th>\n",
       "      <th></th>\n",
       "    </tr>\n",
       "  </thead>\n",
       "  <tbody>\n",
       "    <tr>\n",
       "      <th>0</th>\n",
       "      <th>0</th>\n",
       "      <td>2:45pm</td>\n",
       "      <td>2</td>\n",
       "      <td>45</td>\n",
       "      <td>pm</td>\n",
       "    </tr>\n",
       "    <tr>\n",
       "      <th>1</th>\n",
       "      <th>0</th>\n",
       "      <td>11:30 am</td>\n",
       "      <td>11</td>\n",
       "      <td>30</td>\n",
       "      <td>am</td>\n",
       "    </tr>\n",
       "    <tr>\n",
       "      <th>2</th>\n",
       "      <th>0</th>\n",
       "      <td>7:00pm</td>\n",
       "      <td>7</td>\n",
       "      <td>00</td>\n",
       "      <td>pm</td>\n",
       "    </tr>\n",
       "    <tr>\n",
       "      <th>3</th>\n",
       "      <th>0</th>\n",
       "      <td>11:15 pm</td>\n",
       "      <td>11</td>\n",
       "      <td>15</td>\n",
       "      <td>pm</td>\n",
       "    </tr>\n",
       "    <tr>\n",
       "      <th rowspan=\"2\" valign=\"top\">4</th>\n",
       "      <th>0</th>\n",
       "      <td>08:10 am</td>\n",
       "      <td>08</td>\n",
       "      <td>10</td>\n",
       "      <td>am</td>\n",
       "    </tr>\n",
       "    <tr>\n",
       "      <th>1</th>\n",
       "      <td>09:00am</td>\n",
       "      <td>09</td>\n",
       "      <td>00</td>\n",
       "      <td>am</td>\n",
       "    </tr>\n",
       "  </tbody>\n",
       "</table>\n",
       "</div>"
      ],
      "text/plain": [
       "             time hour minute period\n",
       "  match                             \n",
       "0 0        2:45pm    2     45     pm\n",
       "1 0      11:30 am   11     30     am\n",
       "2 0        7:00pm    7     00     pm\n",
       "3 0      11:15 pm   11     15     pm\n",
       "4 0      08:10 am   08     10     am\n",
       "  1       09:00am   09     00     am"
      ]
     },
     "execution_count": 85,
     "metadata": {},
     "output_type": "execute_result"
    }
   ],
   "source": [
    "df.Text.str.extractall(r'(?P<time>(?P<hour>\\d?\\d):(?P<minute>\\d\\d) ?(?P<period>[ap]m))')"
   ]
  }
 ],
 "metadata": {
  "kernelspec": {
   "display_name": "Python 3 (ipykernel)",
   "language": "python",
   "name": "python3"
  },
  "language_info": {
   "codemirror_mode": {
    "name": "ipython",
    "version": 3
   },
   "file_extension": ".py",
   "mimetype": "text/x-python",
   "name": "python",
   "nbconvert_exporter": "python",
   "pygments_lexer": "ipython3",
   "version": "3.11.5"
  }
 },
 "nbformat": 4,
 "nbformat_minor": 5
}
