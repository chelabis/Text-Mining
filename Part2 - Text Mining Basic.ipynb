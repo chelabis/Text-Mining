{
 "cells": [
  {
   "cell_type": "markdown",
   "id": "ffebe0be",
   "metadata": {},
   "source": [
    "# Text Mining: Part2 - Basic NLP"
   ]
  },
  {
   "cell_type": "code",
   "execution_count": 1,
   "id": "8ebbce54",
   "metadata": {},
   "outputs": [],
   "source": [
    "import nltk"
   ]
  },
  {
   "cell_type": "code",
   "execution_count": 2,
   "id": "0a34d4a1",
   "metadata": {},
   "outputs": [],
   "source": [
    "from nltk import FreqDist"
   ]
  },
  {
   "cell_type": "code",
   "execution_count": 3,
   "id": "42d033ac",
   "metadata": {},
   "outputs": [],
   "source": [
    "f = open('hamlet.txt', 'r')\n",
    "txt = f.read()               # Save whole hamlet text in txt"
   ]
  },
  {
   "cell_type": "code",
   "execution_count": 4,
   "id": "c678035e",
   "metadata": {},
   "outputs": [],
   "source": [
    "lines = txt.splitlines()     # Save whole lines of txt in lines"
   ]
  },
  {
   "cell_type": "code",
   "execution_count": 5,
   "id": "d6dff075",
   "metadata": {},
   "outputs": [
    {
     "name": "stdout",
     "output_type": "stream",
     "text": [
      "162881 28555\n"
     ]
    }
   ],
   "source": [
    "words = txt.split(' ')       # Save whole words of txt in words\n",
    "print(len(txt), len(words))  # Counts of characters and words"
   ]
  },
  {
   "cell_type": "code",
   "execution_count": 6,
   "id": "16a26d64",
   "metadata": {},
   "outputs": [
    {
     "data": {
      "text/plain": [
       "8863"
      ]
     },
     "execution_count": 6,
     "metadata": {},
     "output_type": "execute_result"
    }
   ],
   "source": [
    "len(set(words))      # Counts of unique words"
   ]
  },
  {
   "cell_type": "code",
   "execution_count": 7,
   "id": "4313dd12",
   "metadata": {},
   "outputs": [
    {
     "data": {
      "text/plain": [
       "['', \"hop'd\", 'Primrose', 'rabble', 'sense\\n\\n']"
      ]
     },
     "execution_count": 7,
     "metadata": {},
     "output_type": "execute_result"
    }
   ],
   "source": [
    "list(set(words))[:5]     # Show first 5 unique words"
   ]
  },
  {
   "cell_type": "code",
   "execution_count": 8,
   "id": "135bd431",
   "metadata": {},
   "outputs": [
    {
     "data": {
      "text/plain": [
       "8863"
      ]
     },
     "execution_count": 8,
     "metadata": {},
     "output_type": "execute_result"
    }
   ],
   "source": [
    "dist = FreqDist(words)\n",
    "len(dist)              # Same as set for count unique words"
   ]
  },
  {
   "cell_type": "code",
   "execution_count": 9,
   "id": "8348eaac",
   "metadata": {},
   "outputs": [
    {
     "name": "stdout",
     "output_type": "stream",
     "text": [
      "Number of words like the is 814 and also The is 40\n"
     ]
    }
   ],
   "source": [
    "print('Number of words like the is {} and also The is {}'.format(dist['the'], dist['The']))"
   ]
  },
  {
   "cell_type": "code",
   "execution_count": 10,
   "id": "8544d615",
   "metadata": {},
   "outputs": [
    {
     "data": {
      "text/plain": [
       "['Ham.', 'your', 'that', 'with', 'this', 'haue', 'will', 'what']"
      ]
     },
     "execution_count": 10,
     "metadata": {},
     "output_type": "execute_result"
    }
   ],
   "source": [
    "freqwords = [w for w in dist if len(w) > 3 and dist[w] > 100]\n",
    "freqwords       # Most repeated words in the txt"
   ]
  },
  {
   "cell_type": "markdown",
   "id": "5b1eca89",
   "metadata": {},
   "source": [
    "## Normalization and Stemming"
   ]
  },
  {
   "cell_type": "code",
   "execution_count": 11,
   "id": "4bbd6b80",
   "metadata": {},
   "outputs": [
    {
     "data": {
      "text/plain": [
       "['list', 'listed', 'lists', 'listing', 'listings']"
      ]
     },
     "execution_count": 11,
     "metadata": {},
     "output_type": "execute_result"
    }
   ],
   "source": [
    "input1 = 'List listed lists listing listings'\n",
    "wrd1 = input1.lower().split(' ')\n",
    "wrd1"
   ]
  },
  {
   "cell_type": "code",
   "execution_count": 12,
   "id": "b7d8a99c",
   "metadata": {},
   "outputs": [
    {
     "data": {
      "text/plain": [
       "['list', 'list', 'list', 'list', 'list']"
      ]
     },
     "execution_count": 12,
     "metadata": {},
     "output_type": "execute_result"
    }
   ],
   "source": [
    "porter = nltk.PorterStemmer()\n",
    "[porter.stem(t) for t in wrd1]      # Normalize words"
   ]
  },
  {
   "cell_type": "markdown",
   "id": "1fc2f29f",
   "metadata": {},
   "source": [
    "## Tokenization"
   ]
  },
  {
   "cell_type": "code",
   "execution_count": 13,
   "id": "4293f07e",
   "metadata": {},
   "outputs": [
    {
     "data": {
      "text/plain": [
       "['Children', \"shouldn't\", 'drink', 'a', 'sugary', 'drink', 'before', 'bed.']"
      ]
     },
     "execution_count": 13,
     "metadata": {},
     "output_type": "execute_result"
    }
   ],
   "source": [
    "txt1 = \"Children shouldn't drink a sugary drink before bed.\"\n",
    "txt1.split(' ')   # Split with space and not exact the separated words."
   ]
  },
  {
   "cell_type": "code",
   "execution_count": 14,
   "id": "461707f1",
   "metadata": {},
   "outputs": [],
   "source": [
    "#nltk.word_tokenize(txt1)"
   ]
  },
  {
   "cell_type": "markdown",
   "id": "6b7f04fb",
   "metadata": {},
   "source": [
    "## Sentence Splitting"
   ]
  },
  {
   "cell_type": "code",
   "execution_count": 15,
   "id": "27b34844",
   "metadata": {},
   "outputs": [],
   "source": [
    "txt2 = \"This is the first sentence. A gallon of milk in the U.S. costs $2.99. Is this the third sentence? Yes, it is!\"\n",
    "#sentences = nltk.sent_tokenize(txt2)\n",
    "#sentences"
   ]
  },
  {
   "cell_type": "code",
   "execution_count": 16,
   "id": "ba96d23c",
   "metadata": {},
   "outputs": [],
   "source": [
    "#nltk.help.upenn_tagset('MD')"
   ]
  }
 ],
 "metadata": {
  "kernelspec": {
   "display_name": "Python 3 (ipykernel)",
   "language": "python",
   "name": "python3"
  },
  "language_info": {
   "codemirror_mode": {
    "name": "ipython",
    "version": 3
   },
   "file_extension": ".py",
   "mimetype": "text/x-python",
   "name": "python",
   "nbconvert_exporter": "python",
   "pygments_lexer": "ipython3",
   "version": "3.11.5"
  }
 },
 "nbformat": 4,
 "nbformat_minor": 5
}
